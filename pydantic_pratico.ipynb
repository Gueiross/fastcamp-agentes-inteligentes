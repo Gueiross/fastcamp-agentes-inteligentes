{
 "cells": [
  {
   "cell_type": "markdown",
   "metadata": {},
   "source": [
    "# Instalação das bibliotecas"
   ]
  },
  {
   "cell_type": "code",
   "execution_count": 17,
   "metadata": {},
   "outputs": [
    {
     "name": "stdout",
     "output_type": "stream",
     "text": [
      "Requirement already satisfied: fastapi in c:\\users\\guiru\\appdata\\local\\programs\\python\\python313\\lib\\site-packages (0.115.12)\n",
      "Requirement already satisfied: pydantic in c:\\users\\guiru\\appdata\\local\\programs\\python\\python313\\lib\\site-packages (2.11.4)\n",
      "Requirement already satisfied: uvicorn in c:\\users\\guiru\\appdata\\local\\programs\\python\\python313\\lib\\site-packages (0.34.2)\n",
      "Requirement already satisfied: starlette<0.47.0,>=0.40.0 in c:\\users\\guiru\\appdata\\local\\programs\\python\\python313\\lib\\site-packages (from fastapi) (0.46.2)\n",
      "Requirement already satisfied: typing-extensions>=4.8.0 in c:\\users\\guiru\\appdata\\local\\programs\\python\\python313\\lib\\site-packages (from fastapi) (4.14.1)\n",
      "Requirement already satisfied: annotated-types>=0.6.0 in c:\\users\\guiru\\appdata\\local\\programs\\python\\python313\\lib\\site-packages (from pydantic) (0.7.0)\n",
      "Requirement already satisfied: pydantic-core==2.33.2 in c:\\users\\guiru\\appdata\\local\\programs\\python\\python313\\lib\\site-packages (from pydantic) (2.33.2)\n",
      "Requirement already satisfied: typing-inspection>=0.4.0 in c:\\users\\guiru\\appdata\\local\\programs\\python\\python313\\lib\\site-packages (from pydantic) (0.4.0)\n",
      "Requirement already satisfied: click>=7.0 in c:\\users\\guiru\\appdata\\local\\programs\\python\\python313\\lib\\site-packages (from uvicorn) (8.1.8)\n",
      "Requirement already satisfied: h11>=0.8 in c:\\users\\guiru\\appdata\\local\\programs\\python\\python313\\lib\\site-packages (from uvicorn) (0.14.0)\n",
      "Requirement already satisfied: colorama in c:\\users\\guiru\\appdata\\local\\programs\\python\\python313\\lib\\site-packages (from click>=7.0->uvicorn) (0.4.6)\n",
      "Requirement already satisfied: anyio<5,>=3.6.2 in c:\\users\\guiru\\appdata\\local\\programs\\python\\python313\\lib\\site-packages (from starlette<0.47.0,>=0.40.0->fastapi) (4.9.0)\n",
      "Requirement already satisfied: idna>=2.8 in c:\\users\\guiru\\appdata\\local\\programs\\python\\python313\\lib\\site-packages (from anyio<5,>=3.6.2->starlette<0.47.0,>=0.40.0->fastapi) (3.10)\n",
      "Requirement already satisfied: sniffio>=1.1 in c:\\users\\guiru\\appdata\\local\\programs\\python\\python313\\lib\\site-packages (from anyio<5,>=3.6.2->starlette<0.47.0,>=0.40.0->fastapi) (1.3.1)\n"
     ]
    },
    {
     "name": "stderr",
     "output_type": "stream",
     "text": [
      "\n",
      "[notice] A new release of pip is available: 25.0.1 -> 25.2\n",
      "[notice] To update, run: python.exe -m pip install --upgrade pip\n"
     ]
    }
   ],
   "source": [
    "!pip install fastapi pydantic uvicorn"
   ]
  },
  {
   "cell_type": "markdown",
   "metadata": {},
   "source": [
    "# Importação de bibliotecas"
   ]
  },
  {
   "cell_type": "code",
   "execution_count": 3,
   "metadata": {
    "colab": {
     "base_uri": "https://localhost:8080/"
    },
    "executionInfo": {
     "elapsed": 51,
     "status": "ok",
     "timestamp": 1755404458516,
     "user": {
      "displayName": "Guilherme Gueiros",
      "userId": "12089099880876534568"
     },
     "user_tz": 180
    },
    "id": "UCZQB-mdQIUQ",
    "outputId": "d31b8ac4-1845-4733-8b20-56ab4629420c"
   },
   "outputs": [],
   "source": [
    "from datetime import datetime\n",
    "from typing import Optional\n",
    "from uuid import uuid4\n",
    "from fastapi import FastAPI, HTTPException, Request\n",
    "from fastapi.responses import JSONResponse\n",
    "from fastapi.testclient import TestClient\n",
    "from fastapi.exceptions import RequestValidationError\n",
    "from pydantic import BaseModel, Field, UUID4, field_validator\n",
    "from enum import Enum\n",
    "from starlette.status import HTTP_422_UNPROCESSABLE_ENTITY"
   ]
  },
  {
   "cell_type": "markdown",
   "metadata": {},
   "source": [
    "# instância principal da api"
   ]
  },
  {
   "cell_type": "code",
   "execution_count": 4,
   "metadata": {
    "colab": {
     "base_uri": "https://localhost:8080/"
    },
    "executionInfo": {
     "elapsed": 51,
     "status": "ok",
     "timestamp": 1755404458516,
     "user": {
      "displayName": "Guilherme Gueiros",
      "userId": "12089099880876534568"
     },
     "user_tz": 180
    },
    "id": "UCZQB-mdQIUQ",
    "outputId": "d31b8ac4-1845-4733-8b20-56ab4629420c"
   },
   "outputs": [],
   "source": [
    "app = FastAPI()"
   ]
  },
  {
   "cell_type": "markdown",
   "metadata": {},
   "source": [
    "# Definindo classe Categoria"
   ]
  },
  {
   "cell_type": "code",
   "execution_count": 5,
   "metadata": {
    "colab": {
     "base_uri": "https://localhost:8080/"
    },
    "executionInfo": {
     "elapsed": 51,
     "status": "ok",
     "timestamp": 1755404458516,
     "user": {
      "displayName": "Guilherme Gueiros",
      "userId": "12089099880876534568"
     },
     "user_tz": 180
    },
    "id": "UCZQB-mdQIUQ",
    "outputId": "d31b8ac4-1845-4733-8b20-56ab4629420c"
   },
   "outputs": [],
   "source": [
    "class Categoria(str, Enum):    # criação da classe com Enum para ter valores fixos\n",
    "    ELETRONICO = \"Eletrônico\"\n",
    "    VESTUARIO = \"Vestuário\"  \n",
    "    ALIMENTO = \"Alimento\"  \n",
    "    OUTRO = \"Outro\"           "
   ]
  },
  {
   "cell_type": "markdown",
   "metadata": {},
   "source": [
    "# Definindo classe Produto"
   ]
  },
  {
   "cell_type": "code",
   "execution_count": 8,
   "metadata": {
    "colab": {
     "base_uri": "https://localhost:8080/"
    },
    "executionInfo": {
     "elapsed": 51,
     "status": "ok",
     "timestamp": 1755404458516,
     "user": {
      "displayName": "Guilherme Gueiros",
      "userId": "12089099880876534568"
     },
     "user_tz": 180
    },
    "id": "UCZQB-mdQIUQ",
    "outputId": "d31b8ac4-1845-4733-8b20-56ab4629420c"
   },
   "outputs": [],
   "source": [
    "class Produto(BaseModel):  # definição da classe produto\n",
    "    __produtos__ = []  # lista que funciona como \"banco de dados\"\n",
    " \n",
    "    id: UUID4 = Field(default_factory=uuid4, description=\"Identificador único do produto\")  # id gerado automaticamente com modelo UUID4\n",
    "    nome: str = Field(..., min_length=2, description=\"Nome do produto\")  # campo obrigatório, mínimo de 2 caracteres\n",
    "    preco: float = Field(..., gt=0, description=\"Preço deve ser maior que zero\")  # campo obrigatório, preço maior que zero\n",
    "    quantidade: int = Field(..., ge=0, description=\"Quantidade deve ser zero ou positiva\")  # quantidade obrigatória, zero ou mais\n",
    "    categoria: Categoria = Field(..., description=\"Categoria do produto\")  # campo obrigatório, deve ser uma das opções na classe Categoria\n",
    "    data_cadastro: datetime = Field(default_factory=datetime.now, description=\"Data do cadastro\")  # data é gerada automaticamente no momento atual do cadastro"
   ]
  },
  {
   "cell_type": "markdown",
   "metadata": {},
   "source": [
    "# Validador personalizado"
   ]
  },
  {
   "cell_type": "code",
   "execution_count": 9,
   "metadata": {
    "colab": {
     "base_uri": "https://localhost:8080/"
    },
    "executionInfo": {
     "elapsed": 51,
     "status": "ok",
     "timestamp": 1755404458516,
     "user": {
      "displayName": "Guilherme Gueiros",
      "userId": "12089099880876534568"
     },
     "user_tz": 180
    },
    "id": "UCZQB-mdQIUQ",
    "outputId": "d31b8ac4-1845-4733-8b20-56ab4629420c"
   },
   "outputs": [],
   "source": [
    "@field_validator(\"nome\")  # definindo um validador personalizado para o campo \"nome\" (padrão Pydantic v2)\n",
    "@classmethod  # indica que o método recebe a classe (cls) como primeiro parâmetro\n",
    "def validar_nome(cls, value: str) -> str:  # método que valida o valor do campo \"nome\"\n",
    "    if not value.strip():  # verifica se o nome está vazio ou apenas com espaços\n",
    "        raise ValueError(\"O nome do produto não pode estar vazio\")  # lança erro se for inválido\n",
    "    return value  # retorna o valor válido do nome"
   ]
  },
  {
   "cell_type": "markdown",
   "metadata": {},
   "source": [
    "# Tratamento de erros da api"
   ]
  },
  {
   "cell_type": "code",
   "execution_count": 10,
   "metadata": {
    "colab": {
     "base_uri": "https://localhost:8080/"
    },
    "executionInfo": {
     "elapsed": 51,
     "status": "ok",
     "timestamp": 1755404458516,
     "user": {
      "displayName": "Guilherme Gueiros",
      "userId": "12089099880876534568"
     },
     "user_tz": 180
    },
    "id": "UCZQB-mdQIUQ",
    "outputId": "d31b8ac4-1845-4733-8b20-56ab4629420c"
   },
   "outputs": [],
   "source": [
    "@app.exception_handler(RequestValidationError)  # define um tratador personalizado para erros de validação (422)\n",
    "async def validation_exception_handler(request: Request, exc: RequestValidationError):  # função chamada quando ocorre erro de validação\n",
    "    erros_traduzidos = []  # lista que armazenará os erros traduzidos\n",
    "    for e in exc.errors():  # percorre cada erro retornado pelo Pydantic\n",
    "        msg = e[\"msg\"]  # pega a mensagem padrão do erro\n",
    "\n",
    "        # traduz mensagens mais comuns do inglês para português\n",
    "        if \"Input should be a valid number\" in msg:  # erro ao enviar valor não numérico\n",
    "            msg = \"O valor deve ser um número válido\"\n",
    "        elif \"field required\" in msg:  # erro de campo obrigatório ausente\n",
    "            msg = \"Campo obrigatório não informado\"\n",
    "        elif \"string_too_short\" in e[\"type\"]:  # erro de string curta demais\n",
    "            msg = f\"O campo '{'.'.join(str(p) for p in e['loc'])}' é muito curto\"\n",
    "        elif \"greater_than\" in e[\"type\"]:  # erro de valor numérico que deveria ser maior\n",
    "            msg = \"O valor deve ser maior que zero\"\n",
    "        elif \"greater_than_equal\" in e[\"type\"]:  # erro de valor numérico que deveria ser >=\n",
    "            msg = \"O valor deve ser zero ou positivo\"\n",
    "\n",
    "        erros_traduzidos.append({  # adiciona erro traduzido à lista\n",
    "            \"campo\": e[\"loc\"],  # local do erro (campo)\n",
    "            \"mensagem\": msg     # mensagem traduzida\n",
    "        })\n",
    "\n",
    "    return JSONResponse(  # retorna resposta JSON personalizada\n",
    "        status_code=HTTP_422_UNPROCESSABLE_ENTITY,  # define status HTTP 422\n",
    "        content={\"detail\": erros_traduzidos},  # envia lista de erros traduzidos\n",
    "    )\n",
    "\n",
    "\n",
    "@app.get(\"/produtos\", response_model=list[Produto])  # rota GET que lista todos os produtos\n",
    "async def listar_produtos() -> list[Produto]:  # função que retorna a lista de produtos\n",
    "    return list(Produto.__produtos__)  # retorna todos os produtos armazenados\n",
    "\n",
    "\n",
    "@app.post(\"/produtos\", response_model=Produto)  # rota POST para cadastrar um novo produto\n",
    "async def cadastrar_produto(produto: Produto):  # função que recebe um produto\n",
    "    if any(p.nome == produto.nome for p in Produto.__produtos__):  # verifica se já existe produto com o mesmo nome\n",
    "        raise HTTPException(status_code=409, detail=\"Produto já cadastrado\")  # retorna erro 409 se duplicado\n",
    "    Produto.__produtos__.append(produto)  # adiciona produto à lista\n",
    "    return produto  # retorna produto cadastrado\n",
    "\n",
    "\n",
    "@app.get(\"/produtos/{produto_id}\", response_model=Produto)  # rota GET que busca um produto pelo ID\n",
    "async def buscar_produto(produto_id: UUID4) -> Produto:  # função que recebe o ID do produto\n",
    "    produto = next((p for p in Produto.__produtos__ if p.id == produto_id), None)  # procura produto pelo ID\n",
    "    if not produto:  # se não encontrar\n",
    "        raise HTTPException(status_code=404, detail=\"Produto não encontrado\")  # retorna erro 404\n",
    "    return produto  # retorna produto encontrado"
   ]
  },
  {
   "cell_type": "markdown",
   "metadata": {},
   "source": [
    "# Definindo função de teste"
   ]
  },
  {
   "cell_type": "code",
   "execution_count": 12,
   "metadata": {
    "colab": {
     "base_uri": "https://localhost:8080/"
    },
    "executionInfo": {
     "elapsed": 51,
     "status": "ok",
     "timestamp": 1755404458516,
     "user": {
      "displayName": "Guilherme Gueiros",
      "userId": "12089099880876534568"
     },
     "user_tz": 180
    },
    "id": "UCZQB-mdQIUQ",
    "outputId": "d31b8ac4-1845-4733-8b20-56ab4629420c"
   },
   "outputs": [],
   "source": [
    "def main() -> None:  # função principal de execução dos testes\n",
    "    with TestClient(app) as client:  # cria cliente de teste para simular chamadas HTTP na API\n",
    "\n",
    "        print(\"Testando cadastro e duplicação...\")  # informa início do teste de duplicidade\n",
    "        p1 = {\"nome\": \"Notebook\", \"preco\": 3500.00, \"quantidade\": 5, \"categoria\": \"Eletrônico\"}  # produto válido\n",
    "        response = client.post(\"/produtos\", json=p1)  # envia requisição POST para cadastrar produto\n",
    "        print(\"Sucesso:\", response.status_code, response.json())  # exibe resposta de sucesso\n",
    "        response = client.post(\"/produtos\", json=p1)  # tenta cadastrar mesmo produto de novo\n",
    "        print(\"Erro duplicado:\", response.status_code, response.json())  # exibe erro 409 esperado\n",
    "\n",
    "        print(\"\\nTestando nome válido e inválido...\")  # informa início do teste de nome\n",
    "        p2 = {\"nome\": \"Camiseta\", \"preco\": 59.90, \"quantidade\": 10, \"categoria\": \"Vestuário\"}  # produto válido\n",
    "        response = client.post(\"/produtos\", json=p2)  # cadastra produto válido\n",
    "        print(\"Sucesso:\", response.status_code, response.json())  # exibe resposta de sucesso\n",
    "        p2_invalido = {\"nome\": \"\", \"preco\": 59.90, \"quantidade\": 10, \"categoria\": \"Vestuário\"}  # produto com nome vazio\n",
    "        response = client.post(\"/produtos\", json=p2_invalido)  # tenta cadastrar produto inválido\n",
    "        print(\"Nome inválido:\", response.status_code, response.json())  # exibe erro 422 esperado\n",
    "\n",
    "        print(\"\\nTestando dados corretos e tipo errado...\")  # informa início do teste de tipos\n",
    "        p3 = {\"nome\": \"Arroz 5kg\", \"preco\": 25.00, \"quantidade\": 100, \"categoria\": \"Alimento\"}  # produto válido\n",
    "        response = client.post(\"/produtos\", json=p3)  # cadastra produto válido\n",
    "        print(\"Sucesso:\", response.status_code, response.json())  # exibe resposta de sucesso\n",
    "        p3_invalido = {\"nome\": \"Arroz 5kg\", \"preco\": \"não é número\", \"quantidade\": 100, \"categoria\": \"Alimento\"}  # preco com string inválida\n",
    "        response = client.post(\"/produtos\", json=p3_invalido)  # tenta cadastrar produto inválido\n",
    "        print(\"Tipo inválido:\", response.status_code, response.json())  # exibe erro 422 traduzido\n",
    "\n",
    "        print(\"\\nTestando busca existente e inexistente...\")  # informa início do teste de busca\n",
    "        todos = client.get(\"/produtos\").json()  # pega lista de todos os produtos cadastrados\n",
    "        primeiro_id = todos[0][\"id\"]  # pega o ID do primeiro produto da lista\n",
    "        response = client.get(f\"/produtos/{primeiro_id}\")  # busca produto existente pelo ID\n",
    "        print(\"Produto encontrado:\", response.status_code, response.json())  # exibe produto encontrado\n",
    "        response = client.get(\"/produtos/00000000-0000-0000-0000-000000000000\")  # busca produto com ID inexistente\n",
    "        print(\"Produto não encontrado:\", response.status_code, response.json())  # exibe erro 404 esperado\n"
   ]
  },
  {
   "cell_type": "markdown",
   "metadata": {},
   "source": [
    "# Execução de Testes"
   ]
  },
  {
   "cell_type": "markdown",
   "metadata": {},
   "source": [
    "Foram realizados 4 cenários de teste que simula na API via http, cada cenário valida o comportamento da aplicação ao cadastrar e consultar produtos, com exemplo bem-sucedido e mal-sucedido\n",
    "\n",
    "p1 — Cadastro e duplicação\n",
    "\n",
    "- Caso de sucesso: cadastra um produto válido (Notebook) e recebe 200 OK com os dados do produto.\n",
    "- Caso de erro: tenta cadastrar o mesmo produto novamente e recebe 409 Conflict com a mensagem \"Produto já cadastrado\".\n",
    "\n",
    "p2 — Nome válido e inválido\n",
    "\n",
    "- Caso de sucesso: cadastra um produto válido (Camiseta) e recebe 200 OK.\n",
    "- Caso de erro: tenta cadastrar um produto com nome vazio e recebe 422 Unprocessable Entity com a mensagem \"O campo 'body.nome' é muito curto\".\n",
    "\n",
    "p3 — Dados corretos e tipo errado\n",
    "\n",
    "- Caso de sucesso: cadastra um produto válido (Arroz 5kg) e recebe 200 OK.\n",
    "- Caso de erro: envia o campo preco como string em vez de número e recebe 422 Unprocessable Entity com a mensagem \"O valor deve ser um número válido\".\n",
    "\n",
    "p4 — Busca existente e inexistente\n",
    "\n",
    "- Caso de sucesso: busca um produto já cadastrado pelo seu id e recebe 200 OK com os dados do produto.\n",
    "- Caso de erro: tenta buscar um produto com UUID inválido/inexistente e recebe 422 Unprocessable Entity com a mensagem \"UUID version 4 expected\"."
   ]
  },
  {
   "cell_type": "code",
   "execution_count": 13,
   "metadata": {
    "colab": {
     "base_uri": "https://localhost:8080/"
    },
    "executionInfo": {
     "elapsed": 51,
     "status": "ok",
     "timestamp": 1755404458516,
     "user": {
      "displayName": "Guilherme Gueiros",
      "userId": "12089099880876534568"
     },
     "user_tz": 180
    },
    "id": "UCZQB-mdQIUQ",
    "outputId": "d31b8ac4-1845-4733-8b20-56ab4629420c"
   },
   "outputs": [
    {
     "name": "stdout",
     "output_type": "stream",
     "text": [
      "Testando cadastro e duplicação...\n",
      "Sucesso: 200 {'id': '9ae61306-3a66-46f2-b3e8-0289cbfb6af2', 'nome': 'Notebook', 'preco': 3500.0, 'quantidade': 5, 'categoria': 'Eletrônico', 'data_cadastro': '2025-08-17T15:23:13.310889'}\n",
      "Erro duplicado: 409 {'detail': 'Produto já cadastrado'}\n",
      "\n",
      "Testando nome válido e inválido...\n",
      "Sucesso: 200 {'id': '6ee6aade-169a-43a2-ab63-605a92ab9d2f', 'nome': 'Camiseta', 'preco': 59.9, 'quantidade': 10, 'categoria': 'Vestuário', 'data_cadastro': '2025-08-17T15:23:13.317645'}\n",
      "Nome inválido: 422 {'detail': [{'campo': ['body', 'nome'], 'mensagem': \"O campo 'body.nome' é muito curto\"}]}\n",
      "\n",
      "Testando dados corretos e tipo errado...\n",
      "Sucesso: 200 {'id': 'f7d8823d-4995-4022-9855-89904ff8abbd', 'nome': 'Arroz 5kg', 'preco': 25.0, 'quantidade': 100, 'categoria': 'Alimento', 'data_cadastro': '2025-08-17T15:23:13.321474'}\n",
      "Tipo inválido: 422 {'detail': [{'campo': ['body', 'preco'], 'mensagem': 'O valor deve ser um número válido'}]}\n",
      "\n",
      "Testando busca existente e inexistente...\n",
      "Produto encontrado: 200 {'id': '9ae61306-3a66-46f2-b3e8-0289cbfb6af2', 'nome': 'Notebook', 'preco': 3500.0, 'quantidade': 5, 'categoria': 'Eletrônico', 'data_cadastro': '2025-08-17T15:23:13.310889'}\n",
      "Produto não encontrado: 422 {'detail': [{'campo': ['path', 'produto_id'], 'mensagem': 'UUID version 4 expected'}]}\n"
     ]
    }
   ],
   "source": [
    "if __name__ == \"__main__\":\n",
    "    main()"
   ]
  }
 ],
 "metadata": {
  "colab": {
   "authorship_tag": "ABX9TyMIjs8FRszlMPk3iJD17DED",
   "provenance": []
  },
  "kernelspec": {
   "display_name": "Python 3 (ipykernel)",
   "language": "python",
   "name": "python3"
  },
  "language_info": {
   "codemirror_mode": {
    "name": "ipython",
    "version": 3
   },
   "file_extension": ".py",
   "mimetype": "text/x-python",
   "name": "python",
   "nbconvert_exporter": "python",
   "pygments_lexer": "ipython3",
   "version": "3.13.3"
  }
 },
 "nbformat": 4,
 "nbformat_minor": 4
}
